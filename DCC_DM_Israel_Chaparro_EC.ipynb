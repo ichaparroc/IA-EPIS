{
  "cells": [
    {
      "cell_type": "markdown",
      "metadata": {
        "id": "NdP-mdf-iulD"
      },
      "source": [
        "#Evaluación de Conocimientos (EC)\n",
        "##Escuela de Posgrado - Universidad Nacional del Altiplano de Puno\n",
        "###Doctorado en Ciencias de la Computación\n",
        "####Curso: Minería de Datos - 2025-I\n",
        "#####Prof. Dr. Ivar Vargas Belizario\n",
        "######Alumno: Israel N. Chaparro-Cruz\n",
        "[Link del Notebook](https://colab.research.google.com/drive/1z2-hWYgzJqJjYHqiK_sVHzA0DdE-esyc?usp=sharing)"
      ]
    },
    {
      "cell_type": "markdown",
      "source": [
        "# 1. Descripción del problema"
      ],
      "metadata": {
        "id": "EptjcDCE9Im9"
      }
    },
    {
      "cell_type": "markdown",
      "source": [
        "Se ha seleccionado el problema: [Melanoma](https://www.kaggle.com/datasets/ivarvb/melanomads). Además, se ha seleccionado como estructura de datos un [Vision Transformers](https://docs.pytorch.org/vision/main/models/vision_transformer.html). La implementación se realiza utilizando **PyTorch**.\n",
        "\n",
        "## Clasificación de Melanoma con Vision Transformers usando Data Augmentation, Transfer Learning y Fine-Tuning.\n",
        "\n",
        "El melanoma es uno de los tipos más agresivos de cáncer de piel y su detección temprana resulta crucial para mejorar el pronóstico de los pacientes. A pesar de los avances en la dermatología clínica, el diagnóstico visual basado en imágenes dermatoscópicas sigue siendo un desafío, incluso para expertos, debido a la gran variabilidad en la apariencia de las lesiones cutáneas."
      ],
      "metadata": {
        "id": "9AuIzxdoXo5W"
      }
    },
    {
      "cell_type": "markdown",
      "source": [
        "#2. Descripción del atributo objetivo"
      ],
      "metadata": {
        "id": "JY1GWDR79khF"
      }
    },
    {
      "cell_type": "markdown",
      "source": [
        "\n",
        "En este proyecto, abordamos el problema de **clasificación automática de imágenes dermatoscópicas** para distinguir entre dos clases:\n",
        "\n",
        "- **Benign (Benigna):** Lesiones no cancerígenas.\n",
        "- **Malignant (Maligna):** Lesiones correspondientes a melanoma.\n",
        "\n",
        "El número de imágenes por clase para cada conjunto es:\n",
        "\n",
        "| Conjunto     | Cantidad de Imágenes | Clases      | Distribución de Clases        | Tipo de Etiqueta |\n",
        "|--------------|----------------------|-------------|-------------------------------|------------------|\n",
        "| Entrenamiento | 4000                 | Benign, Malignant | 2000 benign / 2000 malignant | Supervisada      |\n",
        "| Prueba        | 400                  | Benign, Malignant | 200 benign / 200 malignant   | Supervisada      |\n",
        "\n",
        "Dado que las clases están balanceadas y las imágenes presentan variaciones de textura, color y forma, se plantea este problema como una tarea de **clasificación binaria supervisada**."
      ],
      "metadata": {
        "id": "Y2egLd5C9ns1"
      }
    },
    {
      "cell_type": "markdown",
      "source": [
        "#3. Principales Desafíos\n",
        "\n",
        "Los principales desafíos presentados son:\n",
        "\n",
        "1.   **Transfer Learning con Vision Transformers**: A diferencia de las redes neuronales convolucionales, el Vision Transformer no está dividido en Feature Extraction y Classification. Para el Vision Transformers, fue necesario reemplazar la cabeza de este por una capa lineal sin función de activación que mapee el Transformer Encoder a una sola neurona (clasiicación binaria).\n",
        "2.   **Fine-Tuning vs Learning Rate**: Se aplicó Fine-Tuning sobre el modelo al cual se le aplicó Transfer Learning, esto requirió ajustar el valor de Learning Rate para no provocar cambios bruscos en los pesos del modelo base. Pese a los ajustes, no se obtuvieron mejores resultados respecto a Transfer Learning.\n",
        "3.   **Overfitting vs Data Augmentation**: El data augmentation es un tipo especial de regularización que evita overfitting, esto requirió ajustar la cantidad de Data Augmentation para salir del Overfitting y evitar caer en Underfitting.\n",
        "4.   **Threshold**: Se calculó la curva AUC y el threshold óptimo, mejorandose levemente la performance del modelo."
      ],
      "metadata": {
        "id": "CdAsg7gz9zkm"
      }
    },
    {
      "cell_type": "markdown",
      "source": [
        "#4. Descripción de la solución\n",
        "\n",
        "Para ello, emplearemos una arquitectura de tipo **Vision Transformer (ViT)**, específicamente `ViT_B_16`, preentrenada en ImageNet, aplicando técnicas de **data augmentation, transfer learning y fine-tuning** para ajustar sus capacidades a esta tarea médica especializada.\n",
        "\n",
        "Este enfoque no solo busca lograr una alta precisión, sino también aportar una herramienta potencialmente útil como apoyo diagnóstico automatizado en entornos clínicos."
      ],
      "metadata": {
        "id": "yV51KE6r9t3A"
      }
    },
    {
      "cell_type": "markdown",
      "source": [
        "El primer paso será descomprimir el conjunto de datos [Melanoma](https://www.kaggle.com/datasets/ivarvb/melanomads)."
      ],
      "metadata": {
        "id": "QO2pVTxkaED0"
      }
    },
    {
      "cell_type": "code",
      "source": [
        "!unzip -q 'melanoma.zip' -d melanoma"
      ],
      "metadata": {
        "id": "9Pwi_Y_rQYjZ"
      },
      "execution_count": null,
      "outputs": []
    },
    {
      "cell_type": "markdown",
      "source": [
        "###4.1 Importamos las librerías necesarias"
      ],
      "metadata": {
        "id": "CW2Ju-D5dlnj"
      }
    },
    {
      "cell_type": "code",
      "execution_count": null,
      "metadata": {
        "id": "Fwnjg9ZYiulH",
        "colab": {
          "base_uri": "https://localhost:8080/"
        },
        "outputId": "2ac987f9-05c4-4ae0-e747-c27b20df79b0"
      },
      "outputs": [
        {
          "output_type": "execute_result",
          "data": {
            "text/plain": [
              "True"
            ]
          },
          "metadata": {},
          "execution_count": 30
        }
      ],
      "source": [
        "import torch\n",
        "import torch.nn as nn\n",
        "from torch.optim import Adam\n",
        "from torch.utils.data import Dataset, DataLoader\n",
        "import torchvision.transforms.v2 as transforms\n",
        "import torchvision.io as tv_io\n",
        "from sklearn.metrics import confusion_matrix, classification_report, roc_auc_score, roc_curve\n",
        "import numpy as np\n",
        "import matplotlib.pyplot as plt\n",
        "import seaborn as sns\n",
        "\n",
        "import glob\n",
        "from PIL import Image\n",
        "\n",
        "device = torch.device(\"cuda\" if torch.cuda.is_available() else \"cpu\")\n",
        "torch.cuda.is_available()"
      ]
    },
    {
      "cell_type": "markdown",
      "metadata": {
        "id": "A622_-JhiulN"
      },
      "source": [
        "## 4.2 Cargaremos un Vision Transformers pre-entrenado en ImageNet"
      ]
    },
    {
      "cell_type": "markdown",
      "metadata": {
        "id": "GgR8MI1GiulN"
      },
      "source": [
        "Un Vision Transformer (ViT) es una arquitectura de red neuronal que aplica el modelo Transformer, originalmente diseñado para procesamiento de texto, al reconocimiento de imágenes.\n",
        "En este caso, usaremos un ViT pre-entrenado en ImageNet."
      ]
    },
    {
      "cell_type": "code",
      "source": [
        "from torchvision.models import vit_b_16\n",
        "from torchvision.models import ViT_B_16_Weights\n",
        "\n",
        "weights = ViT_B_16_Weights.DEFAULT\n",
        "vit_model = vit_b_16(weights=weights)"
      ],
      "metadata": {
        "id": "Xto_xDh5eodR",
        "colab": {
          "base_uri": "https://localhost:8080/"
        },
        "outputId": "3add7194-bae0-46f5-bfff-f6cefbbe0202"
      },
      "execution_count": null,
      "outputs": [
        {
          "output_type": "stream",
          "name": "stderr",
          "text": [
            "Downloading: \"https://download.pytorch.org/models/vit_b_16-c867db91.pth\" to /root/.cache/torch/hub/checkpoints/vit_b_16-c867db91.pth\n",
            "100%|██████████| 330M/330M [00:01<00:00, 185MB/s]\n"
          ]
        }
      ]
    },
    {
      "cell_type": "markdown",
      "metadata": {
        "id": "V2C-ShwyiulP"
      },
      "source": [
        "## 4.3 Congelar el Modelo (Freeze)"
      ]
    },
    {
      "cell_type": "markdown",
      "metadata": {
        "id": "CLOiHnxkiulP"
      },
      "source": [
        "Congelamos los parámetros para aprovechar el modelo pre-entrenado y acelerar el entrenamiento."
      ]
    },
    {
      "cell_type": "code",
      "source": [
        "for param in vit_model.parameters():\n",
        "    param.requires_grad = False"
      ],
      "metadata": {
        "id": "M9Sj5gI6esMU"
      },
      "execution_count": null,
      "outputs": []
    },
    {
      "cell_type": "markdown",
      "metadata": {
        "id": "W0iI8woCiulQ"
      },
      "source": [
        "##4.4 Añadir la Capa de Clasificación"
      ]
    },
    {
      "cell_type": "markdown",
      "metadata": {
        "id": "0ntLABlviulQ"
      },
      "source": [
        "Un modelo entrenado en ImageNet clasifica entre 1000 diferentes clases, por lo tanto tiene 1000 neuronas de salida. Para nuestro problema, solo es necesaria una neurona de salida (**clasificación binaria**). Lo que haremos es reemplazar la cabeza de nuestro ViT por una capa que mapee la salida a solo 1 neurona."
      ]
    },
    {
      "cell_type": "code",
      "source": [
        "vit_model.heads"
      ],
      "metadata": {
        "colab": {
          "base_uri": "https://localhost:8080/"
        },
        "id": "loZsUbuNgx4L",
        "outputId": "a416af67-31f9-49e0-b91f-2d8bed890780"
      },
      "execution_count": null,
      "outputs": [
        {
          "output_type": "execute_result",
          "data": {
            "text/plain": [
              "Sequential(\n",
              "  (head): Linear(in_features=768, out_features=1000, bias=True)\n",
              ")"
            ]
          },
          "metadata": {},
          "execution_count": 9
        }
      ]
    },
    {
      "cell_type": "code",
      "source": [
        "vit_model.heads = nn.Sequential(\n",
        "    nn.Linear(in_features=768, out_features=1),\n",
        ")"
      ],
      "metadata": {
        "id": "h0o4TkpvdMhu"
      },
      "execution_count": null,
      "outputs": []
    },
    {
      "cell_type": "markdown",
      "metadata": {
        "id": "XV1dgrLFiulS"
      },
      "source": [
        "##4.5 Compilar el Modelo"
      ]
    },
    {
      "cell_type": "markdown",
      "metadata": {
        "id": "ezGbHVk9iulS"
      },
      "source": [
        "Estableceremos como función de costo/error/pérdida el Binary Cross Entropy Loss y como optmizador Adam."
      ]
    },
    {
      "cell_type": "code",
      "execution_count": null,
      "metadata": {
        "id": "p69fJoAGiulS"
      },
      "outputs": [],
      "source": [
        "loss_function = nn.BCEWithLogitsLoss()\n",
        "optimizer = Adam(vit_model.parameters())\n",
        "my_model = torch.compile(vit_model.to(device))"
      ]
    },
    {
      "cell_type": "markdown",
      "metadata": {
        "id": "VRdCI-wAiulT"
      },
      "source": [
        "##4.6 Aumento de Datos"
      ]
    },
    {
      "cell_type": "markdown",
      "metadata": {
        "id": "8uV3bI5ciulT"
      },
      "source": [
        "Primero, utilizaremos el pre-procesamiento de la entrada que se encuentra en los pesos importados."
      ]
    },
    {
      "cell_type": "code",
      "execution_count": null,
      "metadata": {
        "id": "1itqDhwPiulT"
      },
      "outputs": [],
      "source": [
        "pre_trans = weights.transforms()"
      ]
    },
    {
      "cell_type": "markdown",
      "metadata": {
        "id": "wtr2TCGIiulU"
      },
      "source": [
        "Para mejorar el conjunto de datos, realizaremos un aumento de datos aleatorio."
      ]
    },
    {
      "cell_type": "code",
      "execution_count": null,
      "metadata": {
        "id": "y5XeoURhiulU"
      },
      "outputs": [],
      "source": [
        "IMG_WIDTH, IMG_HEIGHT = (224, 224)\n",
        "\n",
        "random_trans = transforms.Compose([\n",
        "    transforms.RandomHorizontalFlip(),\n",
        "    transforms.RandomVerticalFlip(),\n",
        "    transforms.RandomRotation(25)\n",
        "    #transforms.RandomResizedCrop((IMG_WIDTH, IMG_HEIGHT), scale=(.8, 1), ratio=(1, 1)),\n",
        "    #transforms.ColorJitter(brightness=.2, contrast=.2, saturation=.2, hue=.2)\n",
        "])"
      ]
    },
    {
      "cell_type": "markdown",
      "metadata": {
        "id": "YnkWvy_miulU"
      },
      "source": [
        "##4.7 Cargando el Conjunto de Datos"
      ]
    },
    {
      "cell_type": "markdown",
      "metadata": {
        "id": "eoycOcSaiulV"
      },
      "source": [
        "Realizaremos herencia de la clase Dataset de PyTorch para poder cargar las imágenes (.jpg) y sus etiquetas."
      ]
    },
    {
      "cell_type": "code",
      "execution_count": null,
      "metadata": {
        "id": "8m2IyLpaiulY"
      },
      "outputs": [],
      "source": [
        "DATA_LABELS = [\"benign\", \"malignant\"]\n",
        "\n",
        "class MyDataset(Dataset):\n",
        "    def __init__(self, data_dir):\n",
        "        self.imgs = []\n",
        "        self.labels = []\n",
        "\n",
        "        for l_idx, label in enumerate(DATA_LABELS):\n",
        "            data_paths = glob.glob(data_dir + label + '/*.jpg', recursive=True)\n",
        "            for path in data_paths:\n",
        "                img = Image.open(path)\n",
        "                self.imgs.append(pre_trans(img).to(device))\n",
        "                self.labels.append(torch.tensor(l_idx).to(device).float())\n",
        "\n",
        "\n",
        "    def __getitem__(self, idx):\n",
        "        img = self.imgs[idx]\n",
        "        label = self.labels[idx]\n",
        "        return img, label\n",
        "\n",
        "    def __len__(self):\n",
        "        return len(self.imgs)"
      ]
    },
    {
      "cell_type": "markdown",
      "metadata": {
        "id": "YcboOUxniula"
      },
      "source": [
        "Seleccionaremos un batch_size (n) e instanciaremos los objetos necesarios para leer el conjunto de datos."
      ]
    },
    {
      "cell_type": "code",
      "execution_count": null,
      "metadata": {
        "id": "1yFwg6wxiulb"
      },
      "outputs": [],
      "source": [
        "n = 32\n",
        "\n",
        "train_path = \"/content/melanoma/train/\"\n",
        "train_data = MyDataset(train_path)\n",
        "train_loader = DataLoader(train_data, batch_size=n, shuffle=True)\n",
        "train_N = len(train_loader.dataset)\n",
        "\n",
        "valid_path = \"/content/melanoma/test/\"\n",
        "valid_data = MyDataset(valid_path)\n",
        "valid_loader = DataLoader(valid_data, batch_size=n, shuffle=False)\n",
        "valid_N = len(valid_loader.dataset)"
      ]
    },
    {
      "cell_type": "markdown",
      "metadata": {
        "id": "V1w6VNRdiulb"
      },
      "source": [
        "##4.8 Entrenar el Modelo"
      ]
    },
    {
      "cell_type": "markdown",
      "metadata": {
        "id": "05TRadywiulc"
      },
      "source": [
        "Usaremos algunas unciones personalizadas para calcular el accuracy (exactitud), entrenar el modelo y validarlo."
      ]
    },
    {
      "cell_type": "code",
      "source": [
        "def get_batch_accuracy(output, y, N):\n",
        "    zero_tensor = torch.tensor([0]).to(device)\n",
        "    pred = torch.gt(output, zero_tensor)\n",
        "    correct = pred.eq(y.view_as(pred)).sum().item()\n",
        "    return correct / N\n",
        "\n",
        "\n",
        "def train(model, check_grad=False):\n",
        "    loss = 0\n",
        "    accuracy = 0\n",
        "\n",
        "    model.train()\n",
        "    for x, y in train_loader:\n",
        "        output = torch.squeeze(model(random_trans(x)))\n",
        "        optimizer.zero_grad()\n",
        "        batch_loss = loss_function(output, y)\n",
        "        batch_loss.backward()\n",
        "        optimizer.step()\n",
        "\n",
        "        loss += batch_loss.item()\n",
        "        accuracy += get_batch_accuracy(output, y, train_N)\n",
        "    if check_grad:\n",
        "        print('Last Gradient:')\n",
        "        for param in model.parameters():\n",
        "            print(param.grad)\n",
        "    print('Train - Loss: {:.4f} Accuracy: {:.4f}'.format(loss, accuracy))\n",
        "\n",
        "def validate(model):\n",
        "    loss = 0\n",
        "    accuracy = 0\n",
        "\n",
        "    model.eval()\n",
        "    with torch.no_grad():\n",
        "        for x, y in valid_loader:\n",
        "            output = torch.squeeze(model(x))\n",
        "\n",
        "            loss += loss_function(output, y.float()).item()\n",
        "            accuracy += get_batch_accuracy(output, y, valid_N)\n",
        "    print('Valid - Loss: {:.4f} Accuracy: {:.4f}'.format(loss, accuracy))"
      ],
      "metadata": {
        "id": "2Sh7-3zKd_wn"
      },
      "execution_count": null,
      "outputs": []
    },
    {
      "cell_type": "code",
      "execution_count": null,
      "metadata": {
        "id": "OBN1Mqe6iuld",
        "colab": {
          "base_uri": "https://localhost:8080/"
        },
        "outputId": "bd9f6abe-04ef-4ca4-8d0e-8ac08e24a205"
      },
      "outputs": [
        {
          "output_type": "stream",
          "name": "stdout",
          "text": [
            "Epoch: 0\n"
          ]
        },
        {
          "output_type": "stream",
          "name": "stderr",
          "text": [
            "W0531 04:51:00.168000 720 torch/_inductor/utils.py:1137] [0/0] Not enough SMs to use max_autotune_gemm mode\n"
          ]
        },
        {
          "output_type": "stream",
          "name": "stdout",
          "text": [
            "Train - Loss: 42.7654 Accuracy: 0.8580\n",
            "Valid - Loss: 3.6659 Accuracy: 0.8750\n",
            "Epoch: 1\n",
            "Train - Loss: 29.3651 Accuracy: 0.9077\n",
            "Valid - Loss: 3.3812 Accuracy: 0.8850\n",
            "Epoch: 2\n",
            "Train - Loss: 26.9977 Accuracy: 0.9177\n",
            "Valid - Loss: 3.2289 Accuracy: 0.8975\n",
            "Epoch: 3\n",
            "Train - Loss: 25.2080 Accuracy: 0.9210\n",
            "Valid - Loss: 3.2005 Accuracy: 0.8950\n",
            "Epoch: 4\n",
            "Train - Loss: 24.0949 Accuracy: 0.9255\n",
            "Valid - Loss: 3.1126 Accuracy: 0.8975\n",
            "Epoch: 5\n",
            "Train - Loss: 23.1394 Accuracy: 0.9285\n",
            "Valid - Loss: 3.0046 Accuracy: 0.9025\n",
            "Epoch: 6\n",
            "Train - Loss: 21.9208 Accuracy: 0.9357\n",
            "Valid - Loss: 3.0765 Accuracy: 0.9025\n",
            "Epoch: 7\n",
            "Train - Loss: 21.9886 Accuracy: 0.9300\n",
            "Valid - Loss: 3.0288 Accuracy: 0.9100\n",
            "Epoch: 8\n",
            "Train - Loss: 21.0638 Accuracy: 0.9360\n",
            "Valid - Loss: 2.9689 Accuracy: 0.9075\n",
            "Epoch: 9\n",
            "Train - Loss: 21.1163 Accuracy: 0.9385\n",
            "Valid - Loss: 2.9319 Accuracy: 0.9100\n"
          ]
        }
      ],
      "source": [
        "epochs = 10\n",
        "\n",
        "for epoch in range(epochs):\n",
        "    print('Epoch: {}'.format(epoch))\n",
        "    train(my_model, check_grad=False)\n",
        "    validate(my_model)"
      ]
    },
    {
      "cell_type": "markdown",
      "metadata": {
        "id": "iJjYvZ5kiule"
      },
      "source": [
        "##4.9 Descongelar el modelo para aplicar Fine-Tuning"
      ]
    },
    {
      "cell_type": "markdown",
      "metadata": {
        "id": "tlATw-Keiulf"
      },
      "source": [
        "Descongelaremos el modelo por completo y aplicaremos un learning rate bajo a fin de permitir al modelo adecuarse mejor al dataset."
      ]
    },
    {
      "cell_type": "code",
      "source": [
        "for param in my_model.parameters():\n",
        "    param.requires_grad = True"
      ],
      "metadata": {
        "id": "n5b6YcTKwkum"
      },
      "execution_count": null,
      "outputs": []
    },
    {
      "cell_type": "code",
      "source": [
        "optimizer = Adam(my_model.parameters(), lr=1e-5)"
      ],
      "metadata": {
        "id": "F-QynmJnwuQC"
      },
      "execution_count": null,
      "outputs": []
    },
    {
      "cell_type": "code",
      "execution_count": null,
      "metadata": {
        "id": "bSJdE9GBiulf",
        "colab": {
          "base_uri": "https://localhost:8080/"
        },
        "outputId": "082ff66e-a4ad-4fe2-d8fe-cc904d2f156b"
      },
      "outputs": [
        {
          "output_type": "stream",
          "name": "stdout",
          "text": [
            "Epoch: 0\n",
            "Train - Loss: 20.5465 Accuracy: 0.9352\n",
            "Valid - Loss: 2.9480 Accuracy: 0.9075\n"
          ]
        }
      ],
      "source": [
        "epochs = 1\n",
        "\n",
        "for epoch in range(epochs):\n",
        "    print('Epoch: {}'.format(epoch))\n",
        "    train(my_model)\n",
        "    validate(my_model)"
      ]
    },
    {
      "cell_type": "markdown",
      "source": [
        "##4.10 Métricas y Cálculo del Threshold Óptimo"
      ],
      "metadata": {
        "id": "Iee7jkJfxn1b"
      }
    },
    {
      "cell_type": "markdown",
      "source": [
        "Para el conjunto de test, calcularemos las etiquetas tomando en cuenta un Threshold de 0.5."
      ],
      "metadata": {
        "id": "BvKBnhgT7fNy"
      }
    },
    {
      "cell_type": "code",
      "source": [
        "my_model.eval()\n",
        "my_model.to(device)\n",
        "y_true = []\n",
        "y_pred = []\n",
        "\n",
        "with torch.no_grad():\n",
        "    for images, labels in valid_loader:\n",
        "        images = images.to(device)\n",
        "        labels = labels.to(device)\n",
        "\n",
        "        outputs = my_model(images)\n",
        "        probs = torch.sigmoid(outputs)\n",
        "        preds = (probs > 0.5).int()\n",
        "\n",
        "        y_true.extend(labels.cpu().numpy())\n",
        "        y_pred.extend(preds.cpu().numpy())"
      ],
      "metadata": {
        "id": "QeuiNVI2xujI"
      },
      "execution_count": null,
      "outputs": []
    },
    {
      "cell_type": "markdown",
      "source": [
        "En base a los resultados obtenidos, calcularemos la matriz de conusión y las métricas."
      ],
      "metadata": {
        "id": "AMfFY7pu7kjk"
      }
    },
    {
      "cell_type": "code",
      "source": [
        "y_true = np.array(y_true)\n",
        "y_pred = np.array(y_pred)\n",
        "\n",
        "cm = confusion_matrix(y_true, y_pred)\n",
        "\n",
        "labels = [\"Benign\", \"Malignant\"]\n",
        "\n",
        "plt.figure(figsize=(6, 5))\n",
        "sns.heatmap(cm, annot=True, fmt=\"d\", cmap=\"Blues\",\n",
        "            xticklabels=labels, yticklabels=labels,\n",
        "            cbar=False, linewidths=1, linecolor='gray')\n",
        "\n",
        "plt.xlabel(\"Predicted Label\")\n",
        "plt.ylabel(\"True Label\")\n",
        "plt.title(\"Confusion Matrix\")\n",
        "plt.tight_layout()\n",
        "plt.show()\n",
        "\n",
        "report = classification_report(y_true, y_pred, target_names=[\"Benign\", \"Malignant\"])\n",
        "print(\"Reporte de métricas:\\n\", report)"
      ],
      "metadata": {
        "colab": {
          "base_uri": "https://localhost:8080/",
          "height": 681
        },
        "id": "lsKhYTagyFOC",
        "outputId": "3caaca20-740a-440a-b4ef-c7c9af6f85a3"
      },
      "execution_count": null,
      "outputs": [
        {
          "output_type": "display_data",
          "data": {
            "text/plain": [
              "<Figure size 600x500 with 1 Axes>"
            ],
            "image/png": "[encoded data removed]"
          },
          "metadata": {}
        },
        {
          "output_type": "stream",
          "name": "stdout",
          "text": [
            "Reporte de métricas:\n",
            "               precision    recall  f1-score   support\n",
            "\n",
            "      Benign       0.87      0.95      0.91       200\n",
            "   Malignant       0.95      0.86      0.90       200\n",
            "\n",
            "    accuracy                           0.91       400\n",
            "   macro avg       0.91      0.91      0.91       400\n",
            "weighted avg       0.91      0.91      0.91       400\n",
            "\n"
          ]
        }
      ]
    },
    {
      "cell_type": "markdown",
      "source": [
        "Tenemos un total de 37 muestras mal clasificaads de 400 en total. Podemos mejorar un poco la performance del modelo eligiendo un mejor Threshold. Para esto calcularemos la curva AUC y el Threshold óptimo."
      ],
      "metadata": {
        "id": "PHiiGqcN7vyB"
      }
    },
    {
      "cell_type": "code",
      "source": [
        "y_prob = []\n",
        "\n",
        "with torch.no_grad():\n",
        "    for images, labels in valid_loader:\n",
        "        images = images.to(device)\n",
        "        outputs = my_model(images)\n",
        "        probs = torch.sigmoid(outputs)\n",
        "        y_prob.extend(probs.cpu().numpy())\n",
        "\n",
        "auc_score = roc_auc_score(y_true, y_prob)\n",
        "print(\"AUC:\", auc_score)\n",
        "\n",
        "fpr, tpr, thresholds = roc_curve(y_true, y_prob)\n",
        "plt.plot(fpr, tpr, label=f\"AUC = {auc_score:.2f}\")\n",
        "plt.plot([0,1], [0,1], '--')\n",
        "plt.xlabel(\"FPR\")\n",
        "plt.ylabel(\"TPR\")\n",
        "plt.title(\"ROC Curve\")\n",
        "plt.legend()\n",
        "plt.grid()\n",
        "plt.show()"
      ],
      "metadata": {
        "colab": {
          "base_uri": "https://localhost:8080/",
          "height": 489
        },
        "id": "uCyOzNlcyZ0Z",
        "outputId": "2cb83ed7-b08a-4ec2-8be4-de067da3d0b9"
      },
      "execution_count": null,
      "outputs": [
        {
          "output_type": "stream",
          "name": "stdout",
          "text": [
            "AUC: 0.9655250000000001\n"
          ]
        },
        {
          "output_type": "display_data",
          "data": {
            "text/plain": [
              "<Figure size 640x480 with 1 Axes>"
            ],
            "image/png": "[encoded data removed]"
          },
          "metadata": {}
        }
      ]
    },
    {
      "cell_type": "code",
      "source": [
        "youden_j = tpr - fpr\n",
        "\n",
        "optimal_idx = np.argmax(youden_j)\n",
        "optimal_threshold = thresholds[optimal_idx]\n",
        "\n",
        "print(f\"Threshold óptimo (Youden's J): {optimal_threshold:.4f}\")"
      ],
      "metadata": {
        "colab": {
          "base_uri": "https://localhost:8080/"
        },
        "id": "mSHfmEh-ynQX",
        "outputId": "6c3ad2da-b038-41ff-952c-13e93911595e"
      },
      "execution_count": null,
      "outputs": [
        {
          "output_type": "stream",
          "name": "stdout",
          "text": [
            "Threshold óptimo (Youden's J): 0.3572\n"
          ]
        }
      ]
    },
    {
      "cell_type": "markdown",
      "source": [
        "Ahora, podemos recalcular la matriz de confusión y las métrica usando el Threshold óptimo."
      ],
      "metadata": {
        "id": "Sj_POgdm79UZ"
      }
    },
    {
      "cell_type": "code",
      "source": [
        "my_model.eval()\n",
        "my_model.to(device)\n",
        "y_true = []\n",
        "y_pred = []\n",
        "\n",
        "with torch.no_grad():\n",
        "    for images, labels in valid_loader:\n",
        "        images = images.to(device)\n",
        "        labels = labels.to(device)\n",
        "\n",
        "        outputs = my_model(images)\n",
        "        probs = torch.sigmoid(outputs)\n",
        "        preds = (probs > optimal_threshold).int()\n",
        "\n",
        "        y_true.extend(labels.cpu().numpy())\n",
        "        y_pred.extend(preds.cpu().numpy())"
      ],
      "metadata": {
        "id": "Fd1w-qjizdp6"
      },
      "execution_count": null,
      "outputs": []
    },
    {
      "cell_type": "code",
      "source": [
        "y_true = np.array(y_true)\n",
        "y_pred = np.array(y_pred)\n",
        "\n",
        "cm = confusion_matrix(y_true, y_pred)\n",
        "\n",
        "labels = [\"Benign\", \"Malignant\"]\n",
        "\n",
        "plt.figure(figsize=(6, 5))\n",
        "sns.heatmap(cm, annot=True, fmt=\"d\", cmap=\"Blues\",\n",
        "            xticklabels=labels, yticklabels=labels,\n",
        "            cbar=False, linewidths=1, linecolor='gray')\n",
        "\n",
        "plt.xlabel(\"Predicted Label\")\n",
        "plt.ylabel(\"True Label\")\n",
        "plt.title(\"Confusion Matrix\")\n",
        "plt.tight_layout()\n",
        "plt.show()\n",
        "\n",
        "report = classification_report(y_true, y_pred, target_names=[\"Benign\", \"Malignant\"])\n",
        "print(\"Reporte de métricas:\\n\", report)"
      ],
      "metadata": {
        "colab": {
          "base_uri": "https://localhost:8080/",
          "height": 681
        },
        "id": "8FOWcXsxzoGd",
        "outputId": "6b154a7f-ff8f-4e72-9e6a-dd59e5b2b41e"
      },
      "execution_count": null,
      "outputs": [
        {
          "output_type": "display_data",
          "data": {
            "text/plain": [
              "<Figure size 600x500 with 1 Axes>"
            ],
            "image/png": "[encoded data removed]"
          },
          "metadata": {}
        },
        {
          "output_type": "stream",
          "name": "stdout",
          "text": [
            "Reporte de métricas:\n",
            "               precision    recall  f1-score   support\n",
            "\n",
            "      Benign       0.90      0.93      0.91       200\n",
            "   Malignant       0.92      0.90      0.91       200\n",
            "\n",
            "    accuracy                           0.91       400\n",
            "   macro avg       0.91      0.91      0.91       400\n",
            "weighted avg       0.91      0.91      0.91       400\n",
            "\n"
          ]
        }
      ]
    },
    {
      "cell_type": "markdown",
      "source": [
        "Con este threshold hemos mal-clasificado solo 36 imágenes,  ganando una respecto al threshold anterior. Además, algunas métricas han variado pero el rendimiento ha mejorado ligeramente.\n",
        "Además, un threshold más bajo para esta clase de casos es mejor (se prefiere falsos positivos sobre falsos negativos)."
      ],
      "metadata": {
        "id": "GDosOaSI8HWh"
      }
    },
    {
      "cell_type": "markdown",
      "source": [
        "Gracias."
      ],
      "metadata": {
        "id": "fhJjTsQV_jFV"
      }
    }
  ],
  "metadata": {
    "kernelspec": {
      "display_name": "Python 3",
      "name": "python3"
    },
    "language_info": {
      "codemirror_mode": {
        "name": "ipython",
        "version": 3
      },
      "file_extension": ".py",
      "mimetype": "text/x-python",
      "name": "python",
      "nbconvert_exporter": "python",
      "pygments_lexer": "ipython3",
      "version": "3.10.12"
    },
    "colab": {
      "provenance": [],
      "gpuType": "T4"
    },
    "accelerator": "GPU"
  },
  "nbformat": 4,
  "nbformat_minor": 0
}